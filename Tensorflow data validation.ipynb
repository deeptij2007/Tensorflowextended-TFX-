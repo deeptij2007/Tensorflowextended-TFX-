{
 "cells": [
  {
   "cell_type": "markdown",
   "metadata": {},
   "source": [
    "# Installing packages"
   ]
  },
  {
   "cell_type": "code",
   "execution_count": 152,
   "metadata": {
    "jupyter": {
     "outputs_hidden": true
    }
   },
   "outputs": [
    {
     "name": "stdout",
     "output_type": "stream",
     "text": [
      "TFDV version 1.1.0\n",
      "Tf version 2.5.0\n"
     ]
    }
   ],
   "source": [
    "import tensorflow as tf\n",
    "import tensorflow_data_validation as tfdv\n",
    "import pandas as pd\n",
    "from sklearn.model_selection import train_test_split\n",
    "\n",
    "print('TFDV version', tfdv.__version__)\n",
    "print('Tf version', tf.__version__)\n"
   ]
  },
  {
   "cell_type": "markdown",
   "metadata": {},
   "source": [
    "# Data "
   ]
  },
  {
   "cell_type": "markdown",
   "metadata": {},
   "source": [
    "\n",
    "    The dataset used for this demo is the Census income dataset used to predict if a someone earns more or less than 50k based on their following personal and professional attributes.\n",
    "\n",
    "        1. age: age of the individual (continuous)\n",
    "        2. workclass: To which working category does an individual belong (working class categories are: Private, Self-emp-not-inc, Self-emp-inc, Federal-gov, Local-gov, State-gov, Without-pay, Never-worked)\n",
    "        3. fnlwgt: weight assigned by the census bureau. If two individuals have the same weight that come from the same class of same race, similar educational and social background, etc. these weights are not standardised across different states, therefore use this variable judiciously(continuous).\n",
    "        4. education:Category representing highest education level (Bachelors, Some-college, 11th, HS-grad, Prof-school, Assoc-acdm, Assoc-voc, 9th, 7th-8th, 12th, Masters, 1st-4th, 10th, Doctorate, 5th-6th, Preschool).\n",
    "        5. education-num: numerical label representing the education class, Bachelors=13,HS_grad=9, etc. (continuous).\n",
    "        6. marital-status: Category representing the marital status of a person(categories are: Married-civ-spouse, Divorced, Never-married, Separated, Widowed, Married-spouse-absent, Married-AF-spouse).\n",
    "        7. occupation: Category of occupation of each individual (Tech-support, Craft-repair, Other-service, Sales, Exec-managerial, Prof-specialty, Handlers-cleaners, Machine-op-inspct, Adm-clerical, Farming-fishing, Transport-moving, Priv-house-serv, Protective-serv, Armed-Forces).\n",
    "        8. relationship: Categories representing what this individual is relative to others (Wife, Own-child, Husband, Not-in-family, Other-relative, Unmarried).\n",
    "        9. race: White, Asian-Pac-Islander, Amer-Indian-Eskimo, Other, Black.\n",
    "        10. sex: Female, Male.\n",
    "        11. capital-gain: Capital gains of an individual (continuous).\n",
    "        12. capital-loss: Capital loss of an individual (continuous).\n",
    "        13 hours-per-week: Number of hours of work per week (continuous).\n",
    "        14 native-country: United-States, Cambodia, England, Puerto-Rico, Canada, Germany, Outlying-US(Guam-USVI-etc), India, Japan, Greece, South, China, Cuba, Iran, Honduras, Philippines, Italy, Poland, Jamaica, Vietnam, Mexico, Portugal, Ireland, France, Dominican-Republic, Laos, Ecuador, Taiwan, Haiti, Columbia, Hungary, Guatemala, Nicaragua, Scotland, Thailand, Yugoslavia, El-Salvador, Trinadad&Tobago, Peru, Hong, Holand-Netherlands."
   ]
  },
  {
   "cell_type": "code",
   "execution_count": 200,
   "metadata": {},
   "outputs": [
    {
     "name": "stdout",
     "output_type": "stream",
     "text": [
      "Length of training data: 26052\n",
      "Length of test data:  6513\n"
     ]
    }
   ],
   "source": [
    "df=pd.read_csv('Census_income_data.csv', skipinitialspace=True)\n",
    "train_df, test_df=train_test_split(df, test_size=0.2, shuffle=False)\n",
    "print(\"Length of training data:\", len(train_df))\n",
    "print(\"Length of test data: \",len(test_df))"
   ]
  },
  {
   "cell_type": "code",
   "execution_count": 201,
   "metadata": {},
   "outputs": [
    {
     "data": {
      "text/html": [
       "<div>\n",
       "<style scoped>\n",
       "    .dataframe tbody tr th:only-of-type {\n",
       "        vertical-align: middle;\n",
       "    }\n",
       "\n",
       "    .dataframe tbody tr th {\n",
       "        vertical-align: top;\n",
       "    }\n",
       "\n",
       "    .dataframe thead th {\n",
       "        text-align: right;\n",
       "    }\n",
       "</style>\n",
       "<table border=\"1\" class=\"dataframe\">\n",
       "  <thead>\n",
       "    <tr style=\"text-align: right;\">\n",
       "      <th></th>\n",
       "      <th>age</th>\n",
       "      <th>workclass</th>\n",
       "      <th>fnlwgt</th>\n",
       "      <th>education</th>\n",
       "      <th>education-num</th>\n",
       "      <th>marital-status</th>\n",
       "      <th>occupation</th>\n",
       "      <th>relationship</th>\n",
       "      <th>race</th>\n",
       "      <th>sex</th>\n",
       "      <th>capital-gain</th>\n",
       "      <th>capital-loss</th>\n",
       "      <th>hours-per-week</th>\n",
       "      <th>native-country</th>\n",
       "      <th>label</th>\n",
       "    </tr>\n",
       "  </thead>\n",
       "  <tbody>\n",
       "    <tr>\n",
       "      <th>0</th>\n",
       "      <td>39</td>\n",
       "      <td>State-gov</td>\n",
       "      <td>77516</td>\n",
       "      <td>Bachelors</td>\n",
       "      <td>13</td>\n",
       "      <td>Never-married</td>\n",
       "      <td>Adm-clerical</td>\n",
       "      <td>Not-in-family</td>\n",
       "      <td>White</td>\n",
       "      <td>Male</td>\n",
       "      <td>2174</td>\n",
       "      <td>0</td>\n",
       "      <td>40</td>\n",
       "      <td>United-States</td>\n",
       "      <td>&lt;=50K</td>\n",
       "    </tr>\n",
       "    <tr>\n",
       "      <th>1</th>\n",
       "      <td>50</td>\n",
       "      <td>Self-emp-not-inc</td>\n",
       "      <td>83311</td>\n",
       "      <td>Bachelors</td>\n",
       "      <td>13</td>\n",
       "      <td>Married-civ-spouse</td>\n",
       "      <td>Exec-managerial</td>\n",
       "      <td>Husband</td>\n",
       "      <td>White</td>\n",
       "      <td>Male</td>\n",
       "      <td>0</td>\n",
       "      <td>0</td>\n",
       "      <td>13</td>\n",
       "      <td>United-States</td>\n",
       "      <td>&lt;=50K</td>\n",
       "    </tr>\n",
       "    <tr>\n",
       "      <th>2</th>\n",
       "      <td>38</td>\n",
       "      <td>Private</td>\n",
       "      <td>215646</td>\n",
       "      <td>HS-grad</td>\n",
       "      <td>9</td>\n",
       "      <td>Divorced</td>\n",
       "      <td>Handlers-cleaners</td>\n",
       "      <td>Not-in-family</td>\n",
       "      <td>White</td>\n",
       "      <td>Male</td>\n",
       "      <td>0</td>\n",
       "      <td>0</td>\n",
       "      <td>40</td>\n",
       "      <td>United-States</td>\n",
       "      <td>&lt;=50K</td>\n",
       "    </tr>\n",
       "    <tr>\n",
       "      <th>3</th>\n",
       "      <td>53</td>\n",
       "      <td>Private</td>\n",
       "      <td>234721</td>\n",
       "      <td>11th</td>\n",
       "      <td>7</td>\n",
       "      <td>Married-civ-spouse</td>\n",
       "      <td>Handlers-cleaners</td>\n",
       "      <td>Husband</td>\n",
       "      <td>Black</td>\n",
       "      <td>Male</td>\n",
       "      <td>0</td>\n",
       "      <td>0</td>\n",
       "      <td>40</td>\n",
       "      <td>United-States</td>\n",
       "      <td>&lt;=50K</td>\n",
       "    </tr>\n",
       "    <tr>\n",
       "      <th>4</th>\n",
       "      <td>28</td>\n",
       "      <td>Private</td>\n",
       "      <td>338409</td>\n",
       "      <td>Bachelors</td>\n",
       "      <td>13</td>\n",
       "      <td>Married-civ-spouse</td>\n",
       "      <td>Prof-specialty</td>\n",
       "      <td>Wife</td>\n",
       "      <td>Black</td>\n",
       "      <td>Female</td>\n",
       "      <td>0</td>\n",
       "      <td>0</td>\n",
       "      <td>40</td>\n",
       "      <td>Cuba</td>\n",
       "      <td>&lt;=50K</td>\n",
       "    </tr>\n",
       "  </tbody>\n",
       "</table>\n",
       "</div>"
      ],
      "text/plain": [
       "   age         workclass  fnlwgt  education  education-num  \\\n",
       "0  39   State-gov         77516   Bachelors  13              \n",
       "1  50   Self-emp-not-inc  83311   Bachelors  13              \n",
       "2  38   Private           215646  HS-grad    9               \n",
       "3  53   Private           234721  11th       7               \n",
       "4  28   Private           338409  Bachelors  13              \n",
       "\n",
       "       marital-status         occupation   relationship   race     sex  \\\n",
       "0  Never-married       Adm-clerical       Not-in-family  White  Male     \n",
       "1  Married-civ-spouse  Exec-managerial    Husband        White  Male     \n",
       "2  Divorced            Handlers-cleaners  Not-in-family  White  Male     \n",
       "3  Married-civ-spouse  Handlers-cleaners  Husband        Black  Male     \n",
       "4  Married-civ-spouse  Prof-specialty     Wife           Black  Female   \n",
       "\n",
       "   capital-gain  capital-loss  hours-per-week native-country  label  \n",
       "0  2174          0             40              United-States  <=50K  \n",
       "1  0             0             13              United-States  <=50K  \n",
       "2  0             0             40              United-States  <=50K  \n",
       "3  0             0             40              United-States  <=50K  \n",
       "4  0             0             40              Cuba           <=50K  "
      ]
     },
     "execution_count": 201,
     "metadata": {},
     "output_type": "execute_result"
    }
   ],
   "source": [
    "train_df.head()"
   ]
  },
  {
   "cell_type": "code",
   "execution_count": 202,
   "metadata": {},
   "outputs": [
    {
     "data": {
      "text/html": [
       "<div>\n",
       "<style scoped>\n",
       "    .dataframe tbody tr th:only-of-type {\n",
       "        vertical-align: middle;\n",
       "    }\n",
       "\n",
       "    .dataframe tbody tr th {\n",
       "        vertical-align: top;\n",
       "    }\n",
       "\n",
       "    .dataframe thead th {\n",
       "        text-align: right;\n",
       "    }\n",
       "</style>\n",
       "<table border=\"1\" class=\"dataframe\">\n",
       "  <thead>\n",
       "    <tr style=\"text-align: right;\">\n",
       "      <th></th>\n",
       "      <th>age</th>\n",
       "      <th>workclass</th>\n",
       "      <th>fnlwgt</th>\n",
       "      <th>education</th>\n",
       "      <th>education-num</th>\n",
       "      <th>marital-status</th>\n",
       "      <th>occupation</th>\n",
       "      <th>relationship</th>\n",
       "      <th>race</th>\n",
       "      <th>sex</th>\n",
       "      <th>capital-gain</th>\n",
       "      <th>capital-loss</th>\n",
       "      <th>hours-per-week</th>\n",
       "      <th>native-country</th>\n",
       "      <th>label</th>\n",
       "    </tr>\n",
       "  </thead>\n",
       "  <tbody>\n",
       "    <tr>\n",
       "      <th>32560</th>\n",
       "      <td>52</td>\n",
       "      <td>Self-emp-inc</td>\n",
       "      <td>287927</td>\n",
       "      <td>HS-grad</td>\n",
       "      <td>9</td>\n",
       "      <td>Married-civ-spouse</td>\n",
       "      <td>Exec-managerial</td>\n",
       "      <td>Wife</td>\n",
       "      <td>White</td>\n",
       "      <td>Female</td>\n",
       "      <td>15024</td>\n",
       "      <td>0</td>\n",
       "      <td>40</td>\n",
       "      <td>United-States</td>\n",
       "      <td>&gt;50K</td>\n",
       "    </tr>\n",
       "    <tr>\n",
       "      <th>32561</th>\n",
       "      <td>46</td>\n",
       "      <td>NaN</td>\n",
       "      <td>257473</td>\n",
       "      <td>Bachelors</td>\n",
       "      <td>8</td>\n",
       "      <td>Married-civ-spouse</td>\n",
       "      <td>Plumber</td>\n",
       "      <td>Husband</td>\n",
       "      <td>Other</td>\n",
       "      <td>Male</td>\n",
       "      <td>1000</td>\n",
       "      <td>0</td>\n",
       "      <td>41</td>\n",
       "      <td>Australia</td>\n",
       "      <td>&gt;50K</td>\n",
       "    </tr>\n",
       "    <tr>\n",
       "      <th>32562</th>\n",
       "      <td>0</td>\n",
       "      <td>Private</td>\n",
       "      <td>257473</td>\n",
       "      <td>Masters</td>\n",
       "      <td>8</td>\n",
       "      <td>Married-civ-spouse</td>\n",
       "      <td>Adm-clerical</td>\n",
       "      <td>Wife</td>\n",
       "      <td>Asian</td>\n",
       "      <td>Female</td>\n",
       "      <td>0</td>\n",
       "      <td>0</td>\n",
       "      <td>40</td>\n",
       "      <td>Pakistan</td>\n",
       "      <td>&gt;50K</td>\n",
       "    </tr>\n",
       "    <tr>\n",
       "      <th>32563</th>\n",
       "      <td>1000</td>\n",
       "      <td>Private</td>\n",
       "      <td>257473</td>\n",
       "      <td>Masters</td>\n",
       "      <td>8</td>\n",
       "      <td>Married-civ-spouse</td>\n",
       "      <td>Prof-specialty</td>\n",
       "      <td>Husband</td>\n",
       "      <td>Black</td>\n",
       "      <td>Male</td>\n",
       "      <td>0</td>\n",
       "      <td>0</td>\n",
       "      <td>20</td>\n",
       "      <td>Cameroon</td>\n",
       "      <td>&lt;=50K</td>\n",
       "    </tr>\n",
       "    <tr>\n",
       "      <th>32564</th>\n",
       "      <td>25</td>\n",
       "      <td>?</td>\n",
       "      <td>257473</td>\n",
       "      <td>Masters</td>\n",
       "      <td>8</td>\n",
       "      <td>Married-civ-spouse</td>\n",
       "      <td>gamer</td>\n",
       "      <td>Husband</td>\n",
       "      <td>Asian</td>\n",
       "      <td>Female</td>\n",
       "      <td>0</td>\n",
       "      <td>0</td>\n",
       "      <td>50</td>\n",
       "      <td>Mongolia</td>\n",
       "      <td>&lt;=50K</td>\n",
       "    </tr>\n",
       "  </tbody>\n",
       "</table>\n",
       "</div>"
      ],
      "text/plain": [
       "        age     workclass  fnlwgt  education  education-num  \\\n",
       "32560  52    Self-emp-inc  287927  HS-grad    9               \n",
       "32561  46    NaN           257473  Bachelors  8               \n",
       "32562  0     Private       257473  Masters    8               \n",
       "32563  1000  Private       257473  Masters    8               \n",
       "32564  25    ?             257473  Masters    8               \n",
       "\n",
       "           marital-status       occupation relationship   race     sex  \\\n",
       "32560  Married-civ-spouse  Exec-managerial  Wife         White  Female   \n",
       "32561  Married-civ-spouse  Plumber          Husband      Other  Male     \n",
       "32562  Married-civ-spouse  Adm-clerical     Wife         Asian  Female   \n",
       "32563  Married-civ-spouse  Prof-specialty   Husband      Black  Male     \n",
       "32564  Married-civ-spouse  gamer            Husband      Asian  Female   \n",
       "\n",
       "       capital-gain  capital-loss  hours-per-week native-country  label  \n",
       "32560  15024         0             40              United-States  >50K   \n",
       "32561  1000          0             41              Australia      >50K   \n",
       "32562  0             0             40              Pakistan       >50K   \n",
       "32563  0             0             20              Cameroon       <=50K  \n",
       "32564  0             0             50              Mongolia       <=50K  "
      ]
     },
     "execution_count": 202,
     "metadata": {},
     "output_type": "execute_result"
    }
   ],
   "source": [
    "test_df.tail()"
   ]
  },
  {
   "cell_type": "markdown",
   "metadata": {},
   "source": [
    "# Drop Irrelevant Features"
   ]
  },
  {
   "cell_type": "markdown",
   "metadata": {},
   "source": [
    "\n",
    "    Before begining with the analysis, it is important to select only relevant features. \n",
    "    To do so, TFDV provides with tfdv.StatsOptions class\n",
    "    \n",
    "    Since the variable \"fnlwgt\" is assigned by census bureau and is not standard across different states, it may not be very informative and thus could be dropped"
   ]
  },
  {
   "cell_type": "code",
   "execution_count": 242,
   "metadata": {},
   "outputs": [
    {
     "name": "stdout",
     "output_type": "stream",
     "text": [
      "['age', 'workclass', 'education', 'education-num', 'marital-status', 'occupation', 'relationship', 'race', 'sex', 'capital-gain', 'capital-loss', 'hours-per-week', 'native-country', 'label']\n"
     ]
    }
   ],
   "source": [
    "features_to_remove={\"fnlwgt\"}\n",
    "\n",
    "approved_columns=[col for col in df.columns if col not in features_to_remove]\n",
    "stats_options=tfdv.StatsOptions(feature_allowlist=approved_columns)\n",
    "print(stats_options.feature_allowlist)"
   ]
  },
  {
   "cell_type": "markdown",
   "metadata": {},
   "source": [
    "# Generate and visualize datasets"
   ]
  },
  {
   "cell_type": "markdown",
   "metadata": {},
   "source": [
    "\n",
    "    The function used to generate statistics is \"generate_statistics_from_dataframe()\". Behind the scene TFDV distributes analysis using Apache Beam allowing it to scale over large datasets. \n",
    "    TFDV takes input in three forms: \n",
    "        1. csv, \n",
    "        2. Pandas DataFrame and,\n",
    "        3. TensorFlow's TFRecord.\n",
    "    To visualise statistics the function visualize_statistics() is used. The result opens a Facets interface with the following features:\n",
    "        1. Sort the results by feature name (ascending or descending order)\n",
    "        2. Search a specific feature by name\n",
    "        3. Exclusively visualize only numerical and/or string\n",
    "        4. Available stats: Count, missing (%), stdev, number of values set to zero(%), minimum, median and maximum\n",
    "        5. For visualisation we have : standard histograms, quantile plots and value list length. We can choose log option for features that have a large range.\n",
    "    "
   ]
  },
  {
   "cell_type": "code",
   "execution_count": 203,
   "metadata": {},
   "outputs": [
    {
     "data": {
      "text/plain": [
       "tensorflow_metadata.proto.v0.statistics_pb2.DatasetFeatureStatisticsList"
      ]
     },
     "execution_count": 203,
     "metadata": {},
     "output_type": "execute_result"
    }
   ],
   "source": [
    "train_stats=tfdv.generate_statistics_from_dataframe(train_df)\n",
    "type(train_stats)"
   ]
  },
  {
   "cell_type": "code",
   "execution_count": 204,
   "metadata": {
    "scrolled": true
   },
   "outputs": [
    {
     "data": {
      "text/html": [
       "<iframe id='facets-iframe' width=\"100%\" height=\"500px\"></iframe>\n",
       "        <script>\n",
       "        facets_iframe = document.getElementById('facets-iframe');\n",
       "        facets_html = '<script src=\"https://cdnjs.cloudflare.com/ajax/libs/webcomponentsjs/1.3.3/webcomponents-lite.js\"><\\/script><link rel=\"import\" href=\"https://raw.githubusercontent.com/PAIR-code/facets/master/facets-dist/facets-jupyter.html\"><facets-overview proto-input=\"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\"></facets-overview>';\n",
       "        facets_iframe.srcdoc = facets_html;\n",
       "         facets_iframe.id = \"\";\n",
       "         setTimeout(() => {\n",
       "           facets_iframe.setAttribute('height', facets_iframe.contentWindow.document.body.offsetHeight + 'px')\n",
       "         }, 1500)\n",
       "         </script>"
      ],
      "text/plain": [
       "<IPython.core.display.HTML object>"
      ]
     },
     "metadata": {},
     "output_type": "display_data"
    }
   ],
   "source": [
    "tfdv.visualize_statistics(train_stats)"
   ]
  },
  {
   "cell_type": "markdown",
   "metadata": {},
   "source": [
    "\n",
    "### Observations for numerical variables:\n",
    "    1. The variables \"capital gain\" and \"capital loss\" have a lot of zeros (>90%). \n",
    "    2. For the variable \"hours per week\", majority of values are clustered around 40 hours (70th percentile). There is one individual that works 1 hour a week. This value could be an anomaly which needs to verified. \n",
    "    3. The variable \"age\" cannot be clearly analyzed using a histogram and therefore we need to change the chart to \"Quantiles\". In addition, if you select \"log\" and \"expand\", you can see that age follows a symmetric distribution with median=37 years.\n",
    "    4. The variables \"education_num\", though numeric indicates a category. Therefore, should not be analysed as a numerical variables. To analyse this variable we will use the categorical variable \"education\"\n",
    "    \n",
    "### Observations for categorical variables:\n",
    "    1. The distribution for each variable is pretty self explanatory form the distribution plots. There are two options for visualization: chart or raw data.\n",
    "    2. None of the categorical variables have missing values.\n",
    "    3. From the distribution of the variable \"label\" we can see that our dataset is unbalanced. The ration of ≤50k:>50k is almost 3:1."
   ]
  },
  {
   "cell_type": "code",
   "execution_count": 250,
   "metadata": {},
   "outputs": [
    {
     "name": "stdout",
     "output_type": "stream",
     "text": [
      "Number of features: 15\n",
      "Number of examples: 26052\n",
      "First feature: age\n",
      "Last feature: label\n"
     ]
    }
   ],
   "source": [
    "\n",
    "print(f\"Number of features: {len(train_stats.datasets[0].features)}\")\n",
    "\n",
    "print(f\"Number of examples: {train_stats.datasets[0].num_examples}\")\n",
    "\n",
    "\n",
    "print(f\"First feature: {train_stats.datasets[0].features[0].path.step[0]}\")\n",
    "print(f\"Last feature: {train_stats.datasets[0].features[-1].path.step[0]}\")"
   ]
  },
  {
   "cell_type": "markdown",
   "metadata": {},
   "source": [
    "# Infer Schema"
   ]
  },
  {
   "cell_type": "markdown",
   "metadata": {},
   "source": [
    "\n",
    "    Schema refers to the following characteristics about each attribute/feature of a dataset:\n",
    "    \n",
    "        1. The expected type of each feature.\n",
    "        2. The expected presence of each feature, in terms of a minimum count and fraction of examples that must contain the feature.\n",
    "        3. The expected valency of the feature in each example, i.e., minimum and maximum number of values.\n",
    "        4. The expected domain of a feature, i.e., the small universe of values for a string feature, or range for an integer feature.\n",
    "\n",
    "\n",
    "    To get the schema of dataset we use the combination of two functions:\n",
    "\n",
    "    1. infer_schema(): This function returns a schema protocol buffer. Protocol buffer are used to serialize structured data in a faster and simpler fashion. We first define our data structure using a .proto file. This file is then compiled to generate classes for each variable in the data. The compiled .proto file is then used to read and write your structured data and to form a variety of data streams. It's a language neutral platform neutral extensible mechanism for serializing structured data. It used output from generate_statistics_from_dataframe() as input\n",
    "\n",
    "    2. display_schema(): which uses the result of infer_schema to generate a dataframe describing the above mentioned characteristics of each feature."
   ]
  },
  {
   "cell_type": "code",
   "execution_count": 243,
   "metadata": {},
   "outputs": [
    {
     "data": {
      "text/html": [
       "<div>\n",
       "<style scoped>\n",
       "    .dataframe tbody tr th:only-of-type {\n",
       "        vertical-align: middle;\n",
       "    }\n",
       "\n",
       "    .dataframe tbody tr th {\n",
       "        vertical-align: top;\n",
       "    }\n",
       "\n",
       "    .dataframe thead th {\n",
       "        text-align: right;\n",
       "    }\n",
       "</style>\n",
       "<table border=\"1\" class=\"dataframe\">\n",
       "  <thead>\n",
       "    <tr style=\"text-align: right;\">\n",
       "      <th></th>\n",
       "      <th>Type</th>\n",
       "      <th>Presence</th>\n",
       "      <th>Valency</th>\n",
       "      <th>Domain</th>\n",
       "    </tr>\n",
       "    <tr>\n",
       "      <th>Feature name</th>\n",
       "      <th></th>\n",
       "      <th></th>\n",
       "      <th></th>\n",
       "      <th></th>\n",
       "    </tr>\n",
       "  </thead>\n",
       "  <tbody>\n",
       "    <tr>\n",
       "      <th>'age'</th>\n",
       "      <td>INT</td>\n",
       "      <td>required</td>\n",
       "      <td></td>\n",
       "      <td>-</td>\n",
       "    </tr>\n",
       "    <tr>\n",
       "      <th>'workclass'</th>\n",
       "      <td>STRING</td>\n",
       "      <td>required</td>\n",
       "      <td></td>\n",
       "      <td>'workclass'</td>\n",
       "    </tr>\n",
       "    <tr>\n",
       "      <th>'fnlwgt'</th>\n",
       "      <td>INT</td>\n",
       "      <td>required</td>\n",
       "      <td></td>\n",
       "      <td>-</td>\n",
       "    </tr>\n",
       "    <tr>\n",
       "      <th>'education'</th>\n",
       "      <td>STRING</td>\n",
       "      <td>required</td>\n",
       "      <td></td>\n",
       "      <td>'education'</td>\n",
       "    </tr>\n",
       "    <tr>\n",
       "      <th>'education-num'</th>\n",
       "      <td>INT</td>\n",
       "      <td>required</td>\n",
       "      <td></td>\n",
       "      <td>-</td>\n",
       "    </tr>\n",
       "    <tr>\n",
       "      <th>'marital-status'</th>\n",
       "      <td>STRING</td>\n",
       "      <td>required</td>\n",
       "      <td></td>\n",
       "      <td>'marital-status'</td>\n",
       "    </tr>\n",
       "    <tr>\n",
       "      <th>'occupation'</th>\n",
       "      <td>STRING</td>\n",
       "      <td>required</td>\n",
       "      <td></td>\n",
       "      <td>'occupation'</td>\n",
       "    </tr>\n",
       "    <tr>\n",
       "      <th>'relationship'</th>\n",
       "      <td>STRING</td>\n",
       "      <td>required</td>\n",
       "      <td></td>\n",
       "      <td>'relationship'</td>\n",
       "    </tr>\n",
       "    <tr>\n",
       "      <th>'race'</th>\n",
       "      <td>STRING</td>\n",
       "      <td>required</td>\n",
       "      <td></td>\n",
       "      <td>'race'</td>\n",
       "    </tr>\n",
       "    <tr>\n",
       "      <th>'sex'</th>\n",
       "      <td>STRING</td>\n",
       "      <td>required</td>\n",
       "      <td></td>\n",
       "      <td>'sex'</td>\n",
       "    </tr>\n",
       "    <tr>\n",
       "      <th>'capital-gain'</th>\n",
       "      <td>INT</td>\n",
       "      <td>required</td>\n",
       "      <td></td>\n",
       "      <td>-</td>\n",
       "    </tr>\n",
       "    <tr>\n",
       "      <th>'capital-loss'</th>\n",
       "      <td>INT</td>\n",
       "      <td>required</td>\n",
       "      <td></td>\n",
       "      <td>-</td>\n",
       "    </tr>\n",
       "    <tr>\n",
       "      <th>'hours-per-week'</th>\n",
       "      <td>INT</td>\n",
       "      <td>required</td>\n",
       "      <td></td>\n",
       "      <td>-</td>\n",
       "    </tr>\n",
       "    <tr>\n",
       "      <th>'native-country'</th>\n",
       "      <td>STRING</td>\n",
       "      <td>required</td>\n",
       "      <td></td>\n",
       "      <td>'native-country'</td>\n",
       "    </tr>\n",
       "    <tr>\n",
       "      <th>'label'</th>\n",
       "      <td>STRING</td>\n",
       "      <td>required</td>\n",
       "      <td></td>\n",
       "      <td>'label'</td>\n",
       "    </tr>\n",
       "  </tbody>\n",
       "</table>\n",
       "</div>"
      ],
      "text/plain": [
       "                    Type  Presence Valency            Domain\n",
       "Feature name                                                \n",
       "'age'             INT     required          -               \n",
       "'workclass'       STRING  required          'workclass'     \n",
       "'fnlwgt'          INT     required          -               \n",
       "'education'       STRING  required          'education'     \n",
       "'education-num'   INT     required          -               \n",
       "'marital-status'  STRING  required          'marital-status'\n",
       "'occupation'      STRING  required          'occupation'    \n",
       "'relationship'    STRING  required          'relationship'  \n",
       "'race'            STRING  required          'race'          \n",
       "'sex'             STRING  required          'sex'           \n",
       "'capital-gain'    INT     required          -               \n",
       "'capital-loss'    INT     required          -               \n",
       "'hours-per-week'  INT     required          -               \n",
       "'native-country'  STRING  required          'native-country'\n",
       "'label'           STRING  required          'label'         "
      ]
     },
     "metadata": {},
     "output_type": "display_data"
    },
    {
     "name": "stderr",
     "output_type": "stream",
     "text": [
      "/home/deepti/anaconda3/lib/python3.8/site-packages/tensorflow_data_validation/utils/display_util.py:180: FutureWarning: Passing a negative integer is deprecated in version 1.0 and will not be supported in future version. Instead, use None to not limit the column width.\n",
      "  pd.set_option('max_colwidth', -1)\n"
     ]
    },
    {
     "data": {
      "text/html": [
       "<div>\n",
       "<style scoped>\n",
       "    .dataframe tbody tr th:only-of-type {\n",
       "        vertical-align: middle;\n",
       "    }\n",
       "\n",
       "    .dataframe tbody tr th {\n",
       "        vertical-align: top;\n",
       "    }\n",
       "\n",
       "    .dataframe thead th {\n",
       "        text-align: right;\n",
       "    }\n",
       "</style>\n",
       "<table border=\"1\" class=\"dataframe\">\n",
       "  <thead>\n",
       "    <tr style=\"text-align: right;\">\n",
       "      <th></th>\n",
       "      <th>Values</th>\n",
       "    </tr>\n",
       "    <tr>\n",
       "      <th>Domain</th>\n",
       "      <th></th>\n",
       "    </tr>\n",
       "  </thead>\n",
       "  <tbody>\n",
       "    <tr>\n",
       "      <th>'workclass'</th>\n",
       "      <td>'?', 'Federal-gov', 'Local-gov', 'Never-worked', 'Private', 'Self-emp-inc', 'Self-emp-not-inc', 'State-gov', 'Without-pay'</td>\n",
       "    </tr>\n",
       "    <tr>\n",
       "      <th>'education'</th>\n",
       "      <td>'10th', '11th', '12th', '1st-4th', '5th-6th', '7th-8th', '9th', 'Assoc-acdm', 'Assoc-voc', 'Bachelors', 'Doctorate', 'HS-grad', 'Masters', 'Preschool', 'Prof-school', 'Some-college'</td>\n",
       "    </tr>\n",
       "    <tr>\n",
       "      <th>'marital-status'</th>\n",
       "      <td>'Divorced', 'Married-AF-spouse', 'Married-civ-spouse', 'Married-spouse-absent', 'Never-married', 'Separated', 'Widowed'</td>\n",
       "    </tr>\n",
       "    <tr>\n",
       "      <th>'occupation'</th>\n",
       "      <td>'?', 'Adm-clerical', 'Armed-Forces', 'Craft-repair', 'Exec-managerial', 'Farming-fishing', 'Handlers-cleaners', 'Machine-op-inspct', 'Other-service', 'Priv-house-serv', 'Prof-specialty', 'Protective-serv', 'Sales', 'Tech-support', 'Transport-moving', 'gamer'</td>\n",
       "    </tr>\n",
       "    <tr>\n",
       "      <th>'relationship'</th>\n",
       "      <td>'Husband', 'Not-in-family', 'Other-relative', 'Own-child', 'Unmarried', 'Wife'</td>\n",
       "    </tr>\n",
       "    <tr>\n",
       "      <th>'race'</th>\n",
       "      <td>'Amer-Indian-Eskimo', 'Asian', 'Asian-Pac-Islander', 'Black', 'Other', 'White'</td>\n",
       "    </tr>\n",
       "    <tr>\n",
       "      <th>'sex'</th>\n",
       "      <td>'Female', 'Male'</td>\n",
       "    </tr>\n",
       "    <tr>\n",
       "      <th>'native-country'</th>\n",
       "      <td>'?', 'Cambodia', 'Canada', 'China', 'Columbia', 'Cuba', 'Dominican-Republic', 'Ecuador', 'El-Salvador', 'England', 'France', 'Germany', 'Greece', 'Guatemala', 'Haiti', 'Honduras', 'Hong', 'Hungary', 'India', 'Iran', 'Ireland', 'Italy', 'Jamaica', 'Japan', 'Laos', 'Mexico', 'Mongolia', 'Nicaragua', 'Outlying-US(Guam-USVI-etc)', 'Peru', 'Philippines', 'Poland', 'Portugal', 'Puerto-Rico', 'Scotland', 'South', 'Taiwan', 'Thailand', 'Trinadad&amp;Tobago', 'United-States', 'Vietnam', 'Yugoslavia'</td>\n",
       "    </tr>\n",
       "    <tr>\n",
       "      <th>'label'</th>\n",
       "      <td>'&lt;=50K', '&gt;50K'</td>\n",
       "    </tr>\n",
       "  </tbody>\n",
       "</table>\n",
       "</div>"
      ],
      "text/plain": [
       "                                                                                                                                                                                                                                                                                                                                                                                                                                                                                                                       Values\n",
       "Domain                                                                                                                                                                                                                                                                                                                                                                                                                                                                                                                       \n",
       "'workclass'       '?', 'Federal-gov', 'Local-gov', 'Never-worked', 'Private', 'Self-emp-inc', 'Self-emp-not-inc', 'State-gov', 'Without-pay'                                                                                                                                                                                                                                                                                                                                                                                 \n",
       "'education'       '10th', '11th', '12th', '1st-4th', '5th-6th', '7th-8th', '9th', 'Assoc-acdm', 'Assoc-voc', 'Bachelors', 'Doctorate', 'HS-grad', 'Masters', 'Preschool', 'Prof-school', 'Some-college'                                                                                                                                                                                                                                                                                                                      \n",
       "'marital-status'  'Divorced', 'Married-AF-spouse', 'Married-civ-spouse', 'Married-spouse-absent', 'Never-married', 'Separated', 'Widowed'                                                                                                                                                                                                                                                                                                                                                                                    \n",
       "'occupation'      '?', 'Adm-clerical', 'Armed-Forces', 'Craft-repair', 'Exec-managerial', 'Farming-fishing', 'Handlers-cleaners', 'Machine-op-inspct', 'Other-service', 'Priv-house-serv', 'Prof-specialty', 'Protective-serv', 'Sales', 'Tech-support', 'Transport-moving', 'gamer'                                                                                                                                                                                                                                         \n",
       "'relationship'    'Husband', 'Not-in-family', 'Other-relative', 'Own-child', 'Unmarried', 'Wife'                                                                                                                                                                                                                                                                                                                                                                                                                             \n",
       "'race'            'Amer-Indian-Eskimo', 'Asian', 'Asian-Pac-Islander', 'Black', 'Other', 'White'                                                                                                                                                                                                                                                                                                                                                                                                                             \n",
       "'sex'             'Female', 'Male'                                                                                                                                                                                                                                                                                                                                                                                                                                                                                           \n",
       "'native-country'  '?', 'Cambodia', 'Canada', 'China', 'Columbia', 'Cuba', 'Dominican-Republic', 'Ecuador', 'El-Salvador', 'England', 'France', 'Germany', 'Greece', 'Guatemala', 'Haiti', 'Honduras', 'Hong', 'Hungary', 'India', 'Iran', 'Ireland', 'Italy', 'Jamaica', 'Japan', 'Laos', 'Mexico', 'Mongolia', 'Nicaragua', 'Outlying-US(Guam-USVI-etc)', 'Peru', 'Philippines', 'Poland', 'Portugal', 'Puerto-Rico', 'Scotland', 'South', 'Taiwan', 'Thailand', 'Trinadad&Tobago', 'United-States', 'Vietnam', 'Yugoslavia'\n",
       "'label'           '<=50K', '>50K'                                                                                                                                                                                                                                                                                                                                                                                                                                                                                            "
      ]
     },
     "metadata": {},
     "output_type": "display_data"
    }
   ],
   "source": [
    "schema=tfdv.infer_schema(statistics=test_stats)\n",
    "tfdv.display_schema(schema)\n"
   ]
  },
  {
   "cell_type": "code",
   "execution_count": 249,
   "metadata": {},
   "outputs": [
    {
     "name": "stdout",
     "output_type": "stream",
     "text": [
      "Number of features in the schema:  15\n",
      "First feature of the schema:  age\n"
     ]
    }
   ],
   "source": [
    "print(\"Number of features in the schema: \",len(schema.feature))\n",
    "print(\"First feature of the schema: \",schema.feature[0].name )"
   ]
  },
  {
   "cell_type": "markdown",
   "metadata": {},
   "source": [
    "\n",
    "    To save schema to a directory we use \"io\" utility from tensorflow and write_schema_text() from TFDV"
   ]
  },
  {
   "cell_type": "code",
   "execution_count": 253,
   "metadata": {},
   "outputs": [],
   "source": [
    "from tensorflow.python.lib.io import file_io\n",
    "import os\n",
    "OUTPUT_DIR = \"output\"\n",
    "file_io.recursive_create_dir(OUTPUT_DIR)\n",
    "\n",
    "\n",
    "schema_file = os.path.join(OUTPUT_DIR, 'schema_test.pbtxt')\n",
    "\n",
    "\n",
    "tfdv.write_schema_text(schema, schema_file) "
   ]
  },
  {
   "cell_type": "markdown",
   "metadata": {},
   "source": [
    "# Compare train and test datasets"
   ]
  },
  {
   "cell_type": "code",
   "execution_count": 206,
   "metadata": {
    "scrolled": true
   },
   "outputs": [
    {
     "data": {
      "text/html": [
       "<iframe id='facets-iframe' width=\"100%\" height=\"500px\"></iframe>\n",
       "        <script>\n",
       "        facets_iframe = document.getElementById('facets-iframe');\n",
       "        facets_html = '<script src=\"https://cdnjs.cloudflare.com/ajax/libs/webcomponentsjs/1.3.3/webcomponents-lite.js\"><\\/script><link rel=\"import\" href=\"https://raw.githubusercontent.com/PAIR-code/facets/master/facets-dist/facets-jupyter.html\"><facets-overview proto-input=\"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\"></facets-overview>';\n",
       "        facets_iframe.srcdoc = facets_html;\n",
       "         facets_iframe.id = \"\";\n",
       "         setTimeout(() => {\n",
       "           facets_iframe.setAttribute('height', facets_iframe.contentWindow.document.body.offsetHeight + 'px')\n",
       "         }, 1500)\n",
       "         </script>"
      ],
      "text/plain": [
       "<IPython.core.display.HTML object>"
      ]
     },
     "metadata": {},
     "output_type": "display_data"
    }
   ],
   "source": [
    "test_stats=tfdv.generate_statistics_from_dataframe(test_df)\n",
    "tfdv.visualize_statistics(lhs_statistics=test_stats,\\\n",
    "                         rhs_statistics=train_stats,\\\n",
    "                         lhs_name='TEST DATASET',\\\n",
    "                         rhs_name='TRAIN_DATASET')"
   ]
  },
  {
   "cell_type": "markdown",
   "metadata": {},
   "source": [
    "# Clean datasets"
   ]
  },
  {
   "cell_type": "code",
   "execution_count": 207,
   "metadata": {},
   "outputs": [],
   "source": [
    "# filter the age range\n",
    "test_df = test_df[test_df['age'] > 16]\n",
    "test_df = test_df[test_df['age'] < 91]\n",
    "\n",
    "train_df = train_df[train_df['age'] > 16]\n",
    "train_df = train_df[train_df['age'] < 91]\n",
    "# drop missing values\n",
    "test_df.dropna(inplace=True)"
   ]
  },
  {
   "cell_type": "code",
   "execution_count": 208,
   "metadata": {
    "scrolled": true
   },
   "outputs": [
    {
     "data": {
      "text/html": [
       "<iframe id='facets-iframe' width=\"100%\" height=\"500px\"></iframe>\n",
       "        <script>\n",
       "        facets_iframe = document.getElementById('facets-iframe');\n",
       "        facets_html = '<script src=\"https://cdnjs.cloudflare.com/ajax/libs/webcomponentsjs/1.3.3/webcomponents-lite.js\"><\\/script><link rel=\"import\" href=\"https://raw.githubusercontent.com/PAIR-code/facets/master/facets-dist/facets-jupyter.html\"><facets-overview proto-input=\"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\"></facets-overview>';\n",
       "        facets_iframe.srcdoc = facets_html;\n",
       "         facets_iframe.id = \"\";\n",
       "         setTimeout(() => {\n",
       "           facets_iframe.setAttribute('height', facets_iframe.contentWindow.document.body.offsetHeight + 'px')\n",
       "         }, 1500)\n",
       "         </script>"
      ],
      "text/plain": [
       "<IPython.core.display.HTML object>"
      ]
     },
     "metadata": {},
     "output_type": "display_data"
    }
   ],
   "source": [
    "test_stats=tfdv.generate_statistics_from_dataframe(test_df)\n",
    "tfdv.visualize_statistics(lhs_statistics=test_stats,\\\n",
    "                         rhs_statistics=train_stats,\\\n",
    "                         lhs_name='TEST DATASET',\\\n",
    "                         rhs_name='TRAIN_DATASET')"
   ]
  },
  {
   "cell_type": "markdown",
   "metadata": {},
   "source": [
    "# Anomalies"
   ]
  },
  {
   "cell_type": "code",
   "execution_count": 210,
   "metadata": {},
   "outputs": [
    {
     "data": {
      "text/html": [
       "<div>\n",
       "<style scoped>\n",
       "    .dataframe tbody tr th:only-of-type {\n",
       "        vertical-align: middle;\n",
       "    }\n",
       "\n",
       "    .dataframe tbody tr th {\n",
       "        vertical-align: top;\n",
       "    }\n",
       "\n",
       "    .dataframe thead th {\n",
       "        text-align: right;\n",
       "    }\n",
       "</style>\n",
       "<table border=\"1\" class=\"dataframe\">\n",
       "  <thead>\n",
       "    <tr style=\"text-align: right;\">\n",
       "      <th></th>\n",
       "      <th>Anomaly short description</th>\n",
       "      <th>Anomaly long description</th>\n",
       "    </tr>\n",
       "    <tr>\n",
       "      <th>Feature name</th>\n",
       "      <th></th>\n",
       "      <th></th>\n",
       "    </tr>\n",
       "  </thead>\n",
       "  <tbody>\n",
       "    <tr>\n",
       "      <th>'native-country'</th>\n",
       "      <td>Unexpected string values</td>\n",
       "      <td>Examples contain values missing from the schema: Holand-Netherlands (&lt;1%).</td>\n",
       "    </tr>\n",
       "  </tbody>\n",
       "</table>\n",
       "</div>"
      ],
      "text/plain": [
       "                 Anomaly short description  \\\n",
       "Feature name                                 \n",
       "'native-country'  Unexpected string values   \n",
       "\n",
       "                                                                     Anomaly long description  \n",
       "Feature name                                                                                   \n",
       "'native-country'  Examples contain values missing from the schema: Holand-Netherlands (<1%).   "
      ]
     },
     "metadata": {},
     "output_type": "display_data"
    }
   ],
   "source": [
    "anomalies=tfdv.validate_statistics(statistics=train_stats, schema=schema)\n",
    "tfdv.display_anomalies(anomalies)"
   ]
  },
  {
   "cell_type": "code",
   "execution_count": 211,
   "metadata": {},
   "outputs": [],
   "source": [
    "country_feature=tfdv.get_feature(schema, 'native-country')\n",
    "country_feature.distribution_constraints.min_domain_mass=0.9\n"
   ]
  },
  {
   "cell_type": "code",
   "execution_count": 212,
   "metadata": {},
   "outputs": [],
   "source": [
    "race_feature=tfdv.get_domain(schema, 'race')\n",
    "race_feature.value.append('Asian')"
   ]
  },
  {
   "cell_type": "code",
   "execution_count": 213,
   "metadata": {},
   "outputs": [
    {
     "name": "stderr",
     "output_type": "stream",
     "text": [
      "/home/deepti/anaconda3/lib/python3.8/site-packages/tensorflow_data_validation/utils/display_util.py:217: FutureWarning: Passing a negative integer is deprecated in version 1.0 and will not be supported in future version. Instead, use None to not limit the column width.\n",
      "  pd.set_option('max_colwidth', -1)\n"
     ]
    },
    {
     "data": {
      "text/html": [
       "<h4 style=\"color:green;\">No anomalies found.</h4>"
      ],
      "text/plain": [
       "<IPython.core.display.HTML object>"
      ]
     },
     "metadata": {},
     "output_type": "display_data"
    }
   ],
   "source": [
    "anomalies=tfdv.validate_statistics(statistics=test_stats, schema=schema)\n",
    "tfdv.display_anomalies(anomalies)"
   ]
  },
  {
   "cell_type": "markdown",
   "metadata": {},
   "source": [
    "# Update domain with a range of values"
   ]
  },
  {
   "cell_type": "code",
   "execution_count": 214,
   "metadata": {},
   "outputs": [
    {
     "data": {
      "text/html": [
       "<div>\n",
       "<style scoped>\n",
       "    .dataframe tbody tr th:only-of-type {\n",
       "        vertical-align: middle;\n",
       "    }\n",
       "\n",
       "    .dataframe tbody tr th {\n",
       "        vertical-align: top;\n",
       "    }\n",
       "\n",
       "    .dataframe thead th {\n",
       "        text-align: right;\n",
       "    }\n",
       "</style>\n",
       "<table border=\"1\" class=\"dataframe\">\n",
       "  <thead>\n",
       "    <tr style=\"text-align: right;\">\n",
       "      <th></th>\n",
       "      <th>Type</th>\n",
       "      <th>Presence</th>\n",
       "      <th>Valency</th>\n",
       "      <th>Domain</th>\n",
       "    </tr>\n",
       "    <tr>\n",
       "      <th>Feature name</th>\n",
       "      <th></th>\n",
       "      <th></th>\n",
       "      <th></th>\n",
       "      <th></th>\n",
       "    </tr>\n",
       "  </thead>\n",
       "  <tbody>\n",
       "    <tr>\n",
       "      <th>'age'</th>\n",
       "      <td>INT</td>\n",
       "      <td>required</td>\n",
       "      <td></td>\n",
       "      <td>min: 17; max: 90</td>\n",
       "    </tr>\n",
       "    <tr>\n",
       "      <th>'workclass'</th>\n",
       "      <td>STRING</td>\n",
       "      <td>required</td>\n",
       "      <td></td>\n",
       "      <td>'workclass'</td>\n",
       "    </tr>\n",
       "    <tr>\n",
       "      <th>'fnlwgt'</th>\n",
       "      <td>INT</td>\n",
       "      <td>required</td>\n",
       "      <td></td>\n",
       "      <td>-</td>\n",
       "    </tr>\n",
       "    <tr>\n",
       "      <th>'education'</th>\n",
       "      <td>STRING</td>\n",
       "      <td>required</td>\n",
       "      <td></td>\n",
       "      <td>'education'</td>\n",
       "    </tr>\n",
       "    <tr>\n",
       "      <th>'education-num'</th>\n",
       "      <td>INT</td>\n",
       "      <td>required</td>\n",
       "      <td></td>\n",
       "      <td>-</td>\n",
       "    </tr>\n",
       "    <tr>\n",
       "      <th>'marital-status'</th>\n",
       "      <td>STRING</td>\n",
       "      <td>required</td>\n",
       "      <td></td>\n",
       "      <td>'marital-status'</td>\n",
       "    </tr>\n",
       "    <tr>\n",
       "      <th>'occupation'</th>\n",
       "      <td>STRING</td>\n",
       "      <td>required</td>\n",
       "      <td></td>\n",
       "      <td>'occupation'</td>\n",
       "    </tr>\n",
       "    <tr>\n",
       "      <th>'relationship'</th>\n",
       "      <td>STRING</td>\n",
       "      <td>required</td>\n",
       "      <td></td>\n",
       "      <td>'relationship'</td>\n",
       "    </tr>\n",
       "    <tr>\n",
       "      <th>'race'</th>\n",
       "      <td>STRING</td>\n",
       "      <td>required</td>\n",
       "      <td></td>\n",
       "      <td>'race'</td>\n",
       "    </tr>\n",
       "    <tr>\n",
       "      <th>'sex'</th>\n",
       "      <td>STRING</td>\n",
       "      <td>required</td>\n",
       "      <td></td>\n",
       "      <td>'sex'</td>\n",
       "    </tr>\n",
       "    <tr>\n",
       "      <th>'capital-gain'</th>\n",
       "      <td>INT</td>\n",
       "      <td>required</td>\n",
       "      <td></td>\n",
       "      <td>-</td>\n",
       "    </tr>\n",
       "    <tr>\n",
       "      <th>'capital-loss'</th>\n",
       "      <td>INT</td>\n",
       "      <td>required</td>\n",
       "      <td></td>\n",
       "      <td>-</td>\n",
       "    </tr>\n",
       "    <tr>\n",
       "      <th>'hours-per-week'</th>\n",
       "      <td>INT</td>\n",
       "      <td>required</td>\n",
       "      <td></td>\n",
       "      <td>-</td>\n",
       "    </tr>\n",
       "    <tr>\n",
       "      <th>'native-country'</th>\n",
       "      <td>STRING</td>\n",
       "      <td>required</td>\n",
       "      <td></td>\n",
       "      <td>'native-country'</td>\n",
       "    </tr>\n",
       "    <tr>\n",
       "      <th>'label'</th>\n",
       "      <td>STRING</td>\n",
       "      <td>required</td>\n",
       "      <td></td>\n",
       "      <td>'label'</td>\n",
       "    </tr>\n",
       "  </tbody>\n",
       "</table>\n",
       "</div>"
      ],
      "text/plain": [
       "                    Type  Presence Valency            Domain\n",
       "Feature name                                                \n",
       "'age'             INT     required          min: 17; max: 90\n",
       "'workclass'       STRING  required          'workclass'     \n",
       "'fnlwgt'          INT     required          -               \n",
       "'education'       STRING  required          'education'     \n",
       "'education-num'   INT     required          -               \n",
       "'marital-status'  STRING  required          'marital-status'\n",
       "'occupation'      STRING  required          'occupation'    \n",
       "'relationship'    STRING  required          'relationship'  \n",
       "'race'            STRING  required          'race'          \n",
       "'sex'             STRING  required          'sex'           \n",
       "'capital-gain'    INT     required          -               \n",
       "'capital-loss'    INT     required          -               \n",
       "'hours-per-week'  INT     required          -               \n",
       "'native-country'  STRING  required          'native-country'\n",
       "'label'           STRING  required          'label'         "
      ]
     },
     "metadata": {},
     "output_type": "display_data"
    },
    {
     "name": "stderr",
     "output_type": "stream",
     "text": [
      "/home/deepti/anaconda3/lib/python3.8/site-packages/tensorflow_data_validation/utils/display_util.py:180: FutureWarning: Passing a negative integer is deprecated in version 1.0 and will not be supported in future version. Instead, use None to not limit the column width.\n",
      "  pd.set_option('max_colwidth', -1)\n"
     ]
    },
    {
     "data": {
      "text/html": [
       "<div>\n",
       "<style scoped>\n",
       "    .dataframe tbody tr th:only-of-type {\n",
       "        vertical-align: middle;\n",
       "    }\n",
       "\n",
       "    .dataframe tbody tr th {\n",
       "        vertical-align: top;\n",
       "    }\n",
       "\n",
       "    .dataframe thead th {\n",
       "        text-align: right;\n",
       "    }\n",
       "</style>\n",
       "<table border=\"1\" class=\"dataframe\">\n",
       "  <thead>\n",
       "    <tr style=\"text-align: right;\">\n",
       "      <th></th>\n",
       "      <th>Values</th>\n",
       "    </tr>\n",
       "    <tr>\n",
       "      <th>Domain</th>\n",
       "      <th></th>\n",
       "    </tr>\n",
       "  </thead>\n",
       "  <tbody>\n",
       "    <tr>\n",
       "      <th>'workclass'</th>\n",
       "      <td>'?', 'Federal-gov', 'Local-gov', 'Never-worked', 'Private', 'Self-emp-inc', 'Self-emp-not-inc', 'State-gov', 'Without-pay'</td>\n",
       "    </tr>\n",
       "    <tr>\n",
       "      <th>'education'</th>\n",
       "      <td>'10th', '11th', '12th', '1st-4th', '5th-6th', '7th-8th', '9th', 'Assoc-acdm', 'Assoc-voc', 'Bachelors', 'Doctorate', 'HS-grad', 'Masters', 'Preschool', 'Prof-school', 'Some-college'</td>\n",
       "    </tr>\n",
       "    <tr>\n",
       "      <th>'marital-status'</th>\n",
       "      <td>'Divorced', 'Married-AF-spouse', 'Married-civ-spouse', 'Married-spouse-absent', 'Never-married', 'Separated', 'Widowed'</td>\n",
       "    </tr>\n",
       "    <tr>\n",
       "      <th>'occupation'</th>\n",
       "      <td>'?', 'Adm-clerical', 'Armed-Forces', 'Craft-repair', 'Exec-managerial', 'Farming-fishing', 'Handlers-cleaners', 'Machine-op-inspct', 'Other-service', 'Priv-house-serv', 'Prof-specialty', 'Protective-serv', 'Sales', 'Tech-support', 'Transport-moving', 'gamer'</td>\n",
       "    </tr>\n",
       "    <tr>\n",
       "      <th>'relationship'</th>\n",
       "      <td>'Husband', 'Not-in-family', 'Other-relative', 'Own-child', 'Unmarried', 'Wife'</td>\n",
       "    </tr>\n",
       "    <tr>\n",
       "      <th>'race'</th>\n",
       "      <td>'Amer-Indian-Eskimo', 'Asian', 'Asian-Pac-Islander', 'Black', 'Other', 'White', 'Asian'</td>\n",
       "    </tr>\n",
       "    <tr>\n",
       "      <th>'sex'</th>\n",
       "      <td>'Female', 'Male'</td>\n",
       "    </tr>\n",
       "    <tr>\n",
       "      <th>'native-country'</th>\n",
       "      <td>'?', 'Cambodia', 'Canada', 'China', 'Columbia', 'Cuba', 'Dominican-Republic', 'Ecuador', 'El-Salvador', 'England', 'France', 'Germany', 'Greece', 'Guatemala', 'Haiti', 'Honduras', 'Hong', 'Hungary', 'India', 'Iran', 'Ireland', 'Italy', 'Jamaica', 'Japan', 'Laos', 'Mexico', 'Mongolia', 'Nicaragua', 'Outlying-US(Guam-USVI-etc)', 'Peru', 'Philippines', 'Poland', 'Portugal', 'Puerto-Rico', 'Scotland', 'South', 'Taiwan', 'Thailand', 'Trinadad&amp;Tobago', 'United-States', 'Vietnam', 'Yugoslavia'</td>\n",
       "    </tr>\n",
       "    <tr>\n",
       "      <th>'label'</th>\n",
       "      <td>'&lt;=50K', '&gt;50K'</td>\n",
       "    </tr>\n",
       "  </tbody>\n",
       "</table>\n",
       "</div>"
      ],
      "text/plain": [
       "                                                                                                                                                                                                                                                                                                                                                                                                                                                                                                                       Values\n",
       "Domain                                                                                                                                                                                                                                                                                                                                                                                                                                                                                                                       \n",
       "'workclass'       '?', 'Federal-gov', 'Local-gov', 'Never-worked', 'Private', 'Self-emp-inc', 'Self-emp-not-inc', 'State-gov', 'Without-pay'                                                                                                                                                                                                                                                                                                                                                                                 \n",
       "'education'       '10th', '11th', '12th', '1st-4th', '5th-6th', '7th-8th', '9th', 'Assoc-acdm', 'Assoc-voc', 'Bachelors', 'Doctorate', 'HS-grad', 'Masters', 'Preschool', 'Prof-school', 'Some-college'                                                                                                                                                                                                                                                                                                                      \n",
       "'marital-status'  'Divorced', 'Married-AF-spouse', 'Married-civ-spouse', 'Married-spouse-absent', 'Never-married', 'Separated', 'Widowed'                                                                                                                                                                                                                                                                                                                                                                                    \n",
       "'occupation'      '?', 'Adm-clerical', 'Armed-Forces', 'Craft-repair', 'Exec-managerial', 'Farming-fishing', 'Handlers-cleaners', 'Machine-op-inspct', 'Other-service', 'Priv-house-serv', 'Prof-specialty', 'Protective-serv', 'Sales', 'Tech-support', 'Transport-moving', 'gamer'                                                                                                                                                                                                                                         \n",
       "'relationship'    'Husband', 'Not-in-family', 'Other-relative', 'Own-child', 'Unmarried', 'Wife'                                                                                                                                                                                                                                                                                                                                                                                                                             \n",
       "'race'            'Amer-Indian-Eskimo', 'Asian', 'Asian-Pac-Islander', 'Black', 'Other', 'White', 'Asian'                                                                                                                                                                                                                                                                                                                                                                                                                    \n",
       "'sex'             'Female', 'Male'                                                                                                                                                                                                                                                                                                                                                                                                                                                                                           \n",
       "'native-country'  '?', 'Cambodia', 'Canada', 'China', 'Columbia', 'Cuba', 'Dominican-Republic', 'Ecuador', 'El-Salvador', 'England', 'France', 'Germany', 'Greece', 'Guatemala', 'Haiti', 'Honduras', 'Hong', 'Hungary', 'India', 'Iran', 'Ireland', 'Italy', 'Jamaica', 'Japan', 'Laos', 'Mexico', 'Mongolia', 'Nicaragua', 'Outlying-US(Guam-USVI-etc)', 'Peru', 'Philippines', 'Poland', 'Portugal', 'Puerto-Rico', 'Scotland', 'South', 'Taiwan', 'Thailand', 'Trinadad&Tobago', 'United-States', 'Vietnam', 'Yugoslavia'\n",
       "'label'           '<=50K', '>50K'                                                                                                                                                                                                                                                                                                                                                                                                                                                                                            "
      ]
     },
     "metadata": {},
     "output_type": "display_data"
    }
   ],
   "source": [
    "tfdv.set_domain(schema, 'age', schema_pb2.IntDomain(name='age',min=17, max=90))\n",
    "tfdv.display_schema(schema)\n"
   ]
  },
  {
   "cell_type": "code",
   "execution_count": 217,
   "metadata": {},
   "outputs": [
    {
     "data": {
      "text/html": [
       "<h4 style=\"color:green;\">No anomalies found.</h4>"
      ],
      "text/plain": [
       "<IPython.core.display.HTML object>"
      ]
     },
     "metadata": {},
     "output_type": "display_data"
    }
   ],
   "source": [
    "updated_anomalies=tfdv.validate_statistics(test_stats, schema)\n",
    "tfdv.display_anomalies(updated_anomalies)"
   ]
  },
  {
   "cell_type": "markdown",
   "metadata": {},
   "source": [
    "# Analyse data slices"
   ]
  },
  {
   "cell_type": "code",
   "execution_count": 226,
   "metadata": {},
   "outputs": [],
   "source": [
    "from tensorflow_data_validation.utils import slicing_util\n",
    "\n",
    "slice_fn = slicing_util.get_feature_value_slicer(features={'sex':None})"
   ]
  },
  {
   "cell_type": "code",
   "execution_count": 227,
   "metadata": {},
   "outputs": [],
   "source": [
    "# Declare stats options\n",
    "slice_stats_options = tfdv.StatsOptions(schema=schema,\n",
    "                                        slice_functions=[slice_fn],\n",
    "                                        infer_type_from_schema=True)\n"
   ]
  },
  {
   "cell_type": "code",
   "execution_count": 237,
   "metadata": {},
   "outputs": [
    {
     "ename": "AttributeError",
     "evalue": "type object 'DataFrame' has no attribute 'backfill'",
     "output_type": "error",
     "traceback": [
      "\u001b[0;31m---------------------------------------------------------------------------\u001b[0m",
      "\u001b[0;31mAttributeError\u001b[0m                            Traceback (most recent call last)",
      "\u001b[0;32m<ipython-input-237-5a92e464611d>\u001b[0m in \u001b[0;36m<module>\u001b[0;34m\u001b[0m\n\u001b[1;32m      4\u001b[0m \u001b[0;31m# Calculate statistics for the sliced dataset\u001b[0m\u001b[0;34m\u001b[0m\u001b[0;34m\u001b[0m\u001b[0;34m\u001b[0m\u001b[0m\n\u001b[1;32m      5\u001b[0m \u001b[0;34m\u001b[0m\u001b[0m\n\u001b[0;32m----> 6\u001b[0;31m \u001b[0msliced_stats\u001b[0m \u001b[0;34m=\u001b[0m \u001b[0mtfdv\u001b[0m\u001b[0;34m.\u001b[0m\u001b[0mgenerate_statistics_from_csv\u001b[0m\u001b[0;34m(\u001b[0m\u001b[0mCSV_PATH\u001b[0m\u001b[0;34m,\u001b[0m \u001b[0mstats_options\u001b[0m\u001b[0;34m=\u001b[0m\u001b[0mslice_stats_options\u001b[0m\u001b[0;34m)\u001b[0m\u001b[0;34m\u001b[0m\u001b[0;34m\u001b[0m\u001b[0m\n\u001b[0m",
      "\u001b[0;32m~/anaconda3/lib/python3.8/site-packages/tensorflow_data_validation/utils/stats_gen_lib.py\u001b[0m in \u001b[0;36mgenerate_statistics_from_csv\u001b[0;34m(data_location, column_names, delimiter, output_path, stats_options, pipeline_options, compression_type)\u001b[0m\n\u001b[1;32m    170\u001b[0m       \u001b[0mcolumn_names\u001b[0m \u001b[0;34m=\u001b[0m \u001b[0mget_csv_header\u001b[0m\u001b[0;34m(\u001b[0m\u001b[0mdata_location\u001b[0m\u001b[0;34m,\u001b[0m \u001b[0mdelimiter\u001b[0m\u001b[0;34m)\u001b[0m\u001b[0;34m\u001b[0m\u001b[0;34m\u001b[0m\u001b[0m\n\u001b[1;32m    171\u001b[0m     _ = (\n\u001b[0;32m--> 172\u001b[0;31m         \u001b[0mp\u001b[0m\u001b[0;34m\u001b[0m\u001b[0;34m\u001b[0m\u001b[0m\n\u001b[0m\u001b[1;32m    173\u001b[0m         | 'ReadData' >> beam.io.textio.ReadFromText(\n\u001b[1;32m    174\u001b[0m             \u001b[0mfile_pattern\u001b[0m\u001b[0;34m=\u001b[0m\u001b[0mdata_location\u001b[0m\u001b[0;34m,\u001b[0m\u001b[0;34m\u001b[0m\u001b[0;34m\u001b[0m\u001b[0m\n",
      "\u001b[0;32m~/anaconda3/lib/python3.8/site-packages/apache_beam/transforms/ptransform.py\u001b[0m in \u001b[0;36m__ror__\u001b[0;34m(self, pvalueish, _unused)\u001b[0m\n\u001b[1;32m   1084\u001b[0m \u001b[0;34m\u001b[0m\u001b[0m\n\u001b[1;32m   1085\u001b[0m   \u001b[0;32mdef\u001b[0m \u001b[0m__ror__\u001b[0m\u001b[0;34m(\u001b[0m\u001b[0mself\u001b[0m\u001b[0;34m,\u001b[0m \u001b[0mpvalueish\u001b[0m\u001b[0;34m,\u001b[0m \u001b[0m_unused\u001b[0m\u001b[0;34m=\u001b[0m\u001b[0;32mNone\u001b[0m\u001b[0;34m)\u001b[0m\u001b[0;34m:\u001b[0m\u001b[0;34m\u001b[0m\u001b[0;34m\u001b[0m\u001b[0m\n\u001b[0;32m-> 1086\u001b[0;31m     \u001b[0;32mreturn\u001b[0m \u001b[0mself\u001b[0m\u001b[0;34m.\u001b[0m\u001b[0mtransform\u001b[0m\u001b[0;34m.\u001b[0m\u001b[0m__ror__\u001b[0m\u001b[0;34m(\u001b[0m\u001b[0mpvalueish\u001b[0m\u001b[0;34m,\u001b[0m \u001b[0mself\u001b[0m\u001b[0;34m.\u001b[0m\u001b[0mlabel\u001b[0m\u001b[0;34m)\u001b[0m\u001b[0;34m\u001b[0m\u001b[0;34m\u001b[0m\u001b[0m\n\u001b[0m\u001b[1;32m   1087\u001b[0m \u001b[0;34m\u001b[0m\u001b[0m\n\u001b[1;32m   1088\u001b[0m   \u001b[0;32mdef\u001b[0m \u001b[0mexpand\u001b[0m\u001b[0;34m(\u001b[0m\u001b[0mself\u001b[0m\u001b[0;34m,\u001b[0m \u001b[0mpvalue\u001b[0m\u001b[0;34m)\u001b[0m\u001b[0;34m:\u001b[0m\u001b[0;34m\u001b[0m\u001b[0;34m\u001b[0m\u001b[0m\n",
      "\u001b[0;32m~/anaconda3/lib/python3.8/site-packages/apache_beam/transforms/ptransform.py\u001b[0m in \u001b[0;36m__ror__\u001b[0;34m(self, left, label)\u001b[0m\n\u001b[1;32m    599\u001b[0m     \u001b[0mpvalueish\u001b[0m \u001b[0;34m=\u001b[0m \u001b[0m_SetInputPValues\u001b[0m\u001b[0;34m(\u001b[0m\u001b[0;34m)\u001b[0m\u001b[0;34m.\u001b[0m\u001b[0mvisit\u001b[0m\u001b[0;34m(\u001b[0m\u001b[0mpvalueish\u001b[0m\u001b[0;34m,\u001b[0m \u001b[0mreplacements\u001b[0m\u001b[0;34m)\u001b[0m\u001b[0;34m\u001b[0m\u001b[0;34m\u001b[0m\u001b[0m\n\u001b[1;32m    600\u001b[0m     \u001b[0mself\u001b[0m\u001b[0;34m.\u001b[0m\u001b[0mpipeline\u001b[0m \u001b[0;34m=\u001b[0m \u001b[0mp\u001b[0m\u001b[0;34m\u001b[0m\u001b[0;34m\u001b[0m\u001b[0m\n\u001b[0;32m--> 601\u001b[0;31m     \u001b[0mresult\u001b[0m \u001b[0;34m=\u001b[0m \u001b[0mp\u001b[0m\u001b[0;34m.\u001b[0m\u001b[0mapply\u001b[0m\u001b[0;34m(\u001b[0m\u001b[0mself\u001b[0m\u001b[0;34m,\u001b[0m \u001b[0mpvalueish\u001b[0m\u001b[0;34m,\u001b[0m \u001b[0mlabel\u001b[0m\u001b[0;34m)\u001b[0m\u001b[0;34m\u001b[0m\u001b[0;34m\u001b[0m\u001b[0m\n\u001b[0m\u001b[1;32m    602\u001b[0m     \u001b[0;32mif\u001b[0m \u001b[0mdeferred\u001b[0m\u001b[0;34m:\u001b[0m\u001b[0;34m\u001b[0m\u001b[0;34m\u001b[0m\u001b[0m\n\u001b[1;32m    603\u001b[0m       \u001b[0;32mreturn\u001b[0m \u001b[0mresult\u001b[0m\u001b[0;34m\u001b[0m\u001b[0;34m\u001b[0m\u001b[0m\n",
      "\u001b[0;32m~/anaconda3/lib/python3.8/site-packages/apache_beam/pipeline.py\u001b[0m in \u001b[0;36mapply\u001b[0;34m(self, transform, pvalueish, label)\u001b[0m\n\u001b[1;32m    649\u001b[0m       \u001b[0;32mtry\u001b[0m\u001b[0;34m:\u001b[0m\u001b[0;34m\u001b[0m\u001b[0;34m\u001b[0m\u001b[0m\n\u001b[1;32m    650\u001b[0m         \u001b[0mold_label\u001b[0m\u001b[0;34m,\u001b[0m \u001b[0mtransform\u001b[0m\u001b[0;34m.\u001b[0m\u001b[0mlabel\u001b[0m \u001b[0;34m=\u001b[0m \u001b[0mtransform\u001b[0m\u001b[0;34m.\u001b[0m\u001b[0mlabel\u001b[0m\u001b[0;34m,\u001b[0m \u001b[0mlabel\u001b[0m\u001b[0;34m\u001b[0m\u001b[0;34m\u001b[0m\u001b[0m\n\u001b[0;32m--> 651\u001b[0;31m         \u001b[0;32mreturn\u001b[0m \u001b[0mself\u001b[0m\u001b[0;34m.\u001b[0m\u001b[0mapply\u001b[0m\u001b[0;34m(\u001b[0m\u001b[0mtransform\u001b[0m\u001b[0;34m,\u001b[0m \u001b[0mpvalueish\u001b[0m\u001b[0;34m)\u001b[0m\u001b[0;34m\u001b[0m\u001b[0;34m\u001b[0m\u001b[0m\n\u001b[0m\u001b[1;32m    652\u001b[0m       \u001b[0;32mfinally\u001b[0m\u001b[0;34m:\u001b[0m\u001b[0;34m\u001b[0m\u001b[0;34m\u001b[0m\u001b[0m\n\u001b[1;32m    653\u001b[0m         \u001b[0mtransform\u001b[0m\u001b[0;34m.\u001b[0m\u001b[0mlabel\u001b[0m \u001b[0;34m=\u001b[0m \u001b[0mold_label\u001b[0m\u001b[0;34m\u001b[0m\u001b[0;34m\u001b[0m\u001b[0m\n",
      "\u001b[0;32m~/anaconda3/lib/python3.8/site-packages/apache_beam/pipeline.py\u001b[0m in \u001b[0;36mapply\u001b[0;34m(self, transform, pvalueish, label)\u001b[0m\n\u001b[1;32m    657\u001b[0m     \u001b[0;31m# every child transform in a composite.\u001b[0m\u001b[0;34m\u001b[0m\u001b[0;34m\u001b[0m\u001b[0;34m\u001b[0m\u001b[0m\n\u001b[1;32m    658\u001b[0m     \u001b[0;32mif\u001b[0m \u001b[0mself\u001b[0m\u001b[0;34m.\u001b[0m\u001b[0m_current_transform\u001b[0m\u001b[0;34m(\u001b[0m\u001b[0;34m)\u001b[0m \u001b[0;32mis\u001b[0m \u001b[0mself\u001b[0m\u001b[0;34m.\u001b[0m\u001b[0m_root_transform\u001b[0m\u001b[0;34m(\u001b[0m\u001b[0;34m)\u001b[0m\u001b[0;34m:\u001b[0m\u001b[0;34m\u001b[0m\u001b[0;34m\u001b[0m\u001b[0m\n\u001b[0;32m--> 659\u001b[0;31m       \u001b[0malter_label_if_ipython\u001b[0m\u001b[0;34m(\u001b[0m\u001b[0mtransform\u001b[0m\u001b[0;34m,\u001b[0m \u001b[0mpvalueish\u001b[0m\u001b[0;34m)\u001b[0m\u001b[0;34m\u001b[0m\u001b[0;34m\u001b[0m\u001b[0m\n\u001b[0m\u001b[1;32m    660\u001b[0m \u001b[0;34m\u001b[0m\u001b[0m\n\u001b[1;32m    661\u001b[0m     full_label = '/'.join(\n",
      "\u001b[0;32m~/anaconda3/lib/python3.8/site-packages/apache_beam/utils/interactive_utils.py\u001b[0m in \u001b[0;36malter_label_if_ipython\u001b[0;34m(transform, pvalueish)\u001b[0m\n\u001b[1;32m     72\u001b[0m   \"\"\"\n\u001b[1;32m     73\u001b[0m   \u001b[0;32mif\u001b[0m \u001b[0mis_in_ipython\u001b[0m\u001b[0;34m(\u001b[0m\u001b[0;34m)\u001b[0m\u001b[0;34m:\u001b[0m\u001b[0;34m\u001b[0m\u001b[0;34m\u001b[0m\u001b[0m\n\u001b[0;32m---> 74\u001b[0;31m     \u001b[0;32mfrom\u001b[0m \u001b[0mapache_beam\u001b[0m\u001b[0;34m.\u001b[0m\u001b[0mrunners\u001b[0m\u001b[0;34m.\u001b[0m\u001b[0minteractive\u001b[0m \u001b[0;32mimport\u001b[0m \u001b[0minteractive_environment\u001b[0m \u001b[0;32mas\u001b[0m \u001b[0mie\u001b[0m\u001b[0;34m\u001b[0m\u001b[0;34m\u001b[0m\u001b[0m\n\u001b[0m\u001b[1;32m     75\u001b[0m     \u001b[0;31m# Tracks user defined pipeline instances in watched scopes so that we only\u001b[0m\u001b[0;34m\u001b[0m\u001b[0;34m\u001b[0m\u001b[0;34m\u001b[0m\u001b[0m\n\u001b[1;32m     76\u001b[0m     \u001b[0;31m# alter labels for any transform to pvalueish belonging to those pipeline\u001b[0m\u001b[0;34m\u001b[0m\u001b[0;34m\u001b[0m\u001b[0;34m\u001b[0m\u001b[0m\n",
      "\u001b[0;32m~/anaconda3/lib/python3.8/site-packages/apache_beam/runners/interactive/interactive_environment.py\u001b[0m in \u001b[0;36m<module>\u001b[0;34m\u001b[0m\n\u001b[1;32m     36\u001b[0m \u001b[0;32mfrom\u001b[0m \u001b[0mapache_beam\u001b[0m\u001b[0;34m.\u001b[0m\u001b[0mrunners\u001b[0m\u001b[0;34m.\u001b[0m\u001b[0minteractive\u001b[0m \u001b[0;32mimport\u001b[0m \u001b[0mcache_manager\u001b[0m \u001b[0;32mas\u001b[0m \u001b[0mcache\u001b[0m\u001b[0;34m\u001b[0m\u001b[0;34m\u001b[0m\u001b[0m\n\u001b[1;32m     37\u001b[0m \u001b[0;32mfrom\u001b[0m \u001b[0mapache_beam\u001b[0m\u001b[0;34m.\u001b[0m\u001b[0mrunners\u001b[0m\u001b[0;34m.\u001b[0m\u001b[0minteractive\u001b[0m\u001b[0;34m.\u001b[0m\u001b[0mmessaging\u001b[0m\u001b[0;34m.\u001b[0m\u001b[0minteractive_environment_inspector\u001b[0m \u001b[0;32mimport\u001b[0m \u001b[0mInteractiveEnvironmentInspector\u001b[0m\u001b[0;34m\u001b[0m\u001b[0;34m\u001b[0m\u001b[0m\n\u001b[0;32m---> 38\u001b[0;31m \u001b[0;32mfrom\u001b[0m \u001b[0mapache_beam\u001b[0m\u001b[0;34m.\u001b[0m\u001b[0mrunners\u001b[0m\u001b[0;34m.\u001b[0m\u001b[0minteractive\u001b[0m\u001b[0;34m.\u001b[0m\u001b[0mrecording_manager\u001b[0m \u001b[0;32mimport\u001b[0m \u001b[0mRecordingManager\u001b[0m\u001b[0;34m\u001b[0m\u001b[0;34m\u001b[0m\u001b[0m\n\u001b[0m\u001b[1;32m     39\u001b[0m \u001b[0;32mfrom\u001b[0m \u001b[0mapache_beam\u001b[0m\u001b[0;34m.\u001b[0m\u001b[0mrunners\u001b[0m\u001b[0;34m.\u001b[0m\u001b[0minteractive\u001b[0m\u001b[0;34m.\u001b[0m\u001b[0muser_pipeline_tracker\u001b[0m \u001b[0;32mimport\u001b[0m \u001b[0mUserPipelineTracker\u001b[0m\u001b[0;34m\u001b[0m\u001b[0;34m\u001b[0m\u001b[0m\n\u001b[1;32m     40\u001b[0m \u001b[0;32mfrom\u001b[0m \u001b[0mapache_beam\u001b[0m\u001b[0;34m.\u001b[0m\u001b[0mrunners\u001b[0m\u001b[0;34m.\u001b[0m\u001b[0minteractive\u001b[0m\u001b[0;34m.\u001b[0m\u001b[0mutils\u001b[0m \u001b[0;32mimport\u001b[0m \u001b[0mregister_ipython_log_handler\u001b[0m\u001b[0;34m\u001b[0m\u001b[0;34m\u001b[0m\u001b[0m\n",
      "\u001b[0;32m~/anaconda3/lib/python3.8/site-packages/apache_beam/runners/interactive/recording_manager.py\u001b[0m in \u001b[0;36m<module>\u001b[0;34m\u001b[0m\n\u001b[1;32m     24\u001b[0m \u001b[0;34m\u001b[0m\u001b[0m\n\u001b[1;32m     25\u001b[0m \u001b[0;32mimport\u001b[0m \u001b[0mapache_beam\u001b[0m \u001b[0;32mas\u001b[0m \u001b[0mbeam\u001b[0m\u001b[0;34m\u001b[0m\u001b[0;34m\u001b[0m\u001b[0m\n\u001b[0;32m---> 26\u001b[0;31m \u001b[0;32mfrom\u001b[0m \u001b[0mapache_beam\u001b[0m\u001b[0;34m.\u001b[0m\u001b[0mdataframe\u001b[0m\u001b[0;34m.\u001b[0m\u001b[0mconvert\u001b[0m \u001b[0;32mimport\u001b[0m \u001b[0mto_pcollection\u001b[0m\u001b[0;34m\u001b[0m\u001b[0;34m\u001b[0m\u001b[0m\n\u001b[0m\u001b[1;32m     27\u001b[0m \u001b[0;32mfrom\u001b[0m \u001b[0mapache_beam\u001b[0m\u001b[0;34m.\u001b[0m\u001b[0mdataframe\u001b[0m\u001b[0;34m.\u001b[0m\u001b[0mframe_base\u001b[0m \u001b[0;32mimport\u001b[0m \u001b[0mDeferredBase\u001b[0m\u001b[0;34m\u001b[0m\u001b[0;34m\u001b[0m\u001b[0m\n\u001b[1;32m     28\u001b[0m \u001b[0;32mfrom\u001b[0m \u001b[0mapache_beam\u001b[0m\u001b[0;34m.\u001b[0m\u001b[0mportability\u001b[0m\u001b[0;34m.\u001b[0m\u001b[0mapi\u001b[0m\u001b[0;34m.\u001b[0m\u001b[0mbeam_runner_api_pb2\u001b[0m \u001b[0;32mimport\u001b[0m \u001b[0mTestStreamPayload\u001b[0m\u001b[0;34m\u001b[0m\u001b[0;34m\u001b[0m\u001b[0m\n",
      "\u001b[0;32m~/anaconda3/lib/python3.8/site-packages/apache_beam/dataframe/convert.py\u001b[0m in \u001b[0;36m<module>\u001b[0;34m\u001b[0m\n\u001b[1;32m     30\u001b[0m \u001b[0;32mfrom\u001b[0m \u001b[0mapache_beam\u001b[0m\u001b[0;34m.\u001b[0m\u001b[0mdataframe\u001b[0m \u001b[0;32mimport\u001b[0m \u001b[0mframe_base\u001b[0m\u001b[0;34m\u001b[0m\u001b[0;34m\u001b[0m\u001b[0m\n\u001b[1;32m     31\u001b[0m \u001b[0;32mfrom\u001b[0m \u001b[0mapache_beam\u001b[0m\u001b[0;34m.\u001b[0m\u001b[0mdataframe\u001b[0m \u001b[0;32mimport\u001b[0m \u001b[0mschemas\u001b[0m\u001b[0;34m\u001b[0m\u001b[0;34m\u001b[0m\u001b[0m\n\u001b[0;32m---> 32\u001b[0;31m \u001b[0;32mfrom\u001b[0m \u001b[0mapache_beam\u001b[0m\u001b[0;34m.\u001b[0m\u001b[0mdataframe\u001b[0m \u001b[0;32mimport\u001b[0m \u001b[0mtransforms\u001b[0m\u001b[0;34m\u001b[0m\u001b[0;34m\u001b[0m\u001b[0m\n\u001b[0m\u001b[1;32m     33\u001b[0m \u001b[0;34m\u001b[0m\u001b[0m\n\u001b[1;32m     34\u001b[0m \u001b[0;32mif\u001b[0m \u001b[0mTYPE_CHECKING\u001b[0m\u001b[0;34m:\u001b[0m\u001b[0;34m\u001b[0m\u001b[0;34m\u001b[0m\u001b[0m\n",
      "\u001b[0;32m~/anaconda3/lib/python3.8/site-packages/apache_beam/dataframe/transforms.py\u001b[0m in \u001b[0;36m<module>\u001b[0;34m\u001b[0m\n\u001b[1;32m     30\u001b[0m \u001b[0;32mfrom\u001b[0m \u001b[0mapache_beam\u001b[0m \u001b[0;32mimport\u001b[0m \u001b[0mtransforms\u001b[0m\u001b[0;34m\u001b[0m\u001b[0;34m\u001b[0m\u001b[0m\n\u001b[1;32m     31\u001b[0m \u001b[0;32mfrom\u001b[0m \u001b[0mapache_beam\u001b[0m\u001b[0;34m.\u001b[0m\u001b[0mdataframe\u001b[0m \u001b[0;32mimport\u001b[0m \u001b[0mexpressions\u001b[0m\u001b[0;34m\u001b[0m\u001b[0;34m\u001b[0m\u001b[0m\n\u001b[0;32m---> 32\u001b[0;31m \u001b[0;32mfrom\u001b[0m \u001b[0mapache_beam\u001b[0m\u001b[0;34m.\u001b[0m\u001b[0mdataframe\u001b[0m \u001b[0;32mimport\u001b[0m \u001b[0mframes\u001b[0m  \u001b[0;31m# pylint: disable=unused-import\u001b[0m\u001b[0;34m\u001b[0m\u001b[0;34m\u001b[0m\u001b[0m\n\u001b[0m\u001b[1;32m     33\u001b[0m \u001b[0;32mfrom\u001b[0m \u001b[0mapache_beam\u001b[0m\u001b[0;34m.\u001b[0m\u001b[0mdataframe\u001b[0m \u001b[0;32mimport\u001b[0m \u001b[0mpartitionings\u001b[0m\u001b[0;34m\u001b[0m\u001b[0;34m\u001b[0m\u001b[0m\n\u001b[1;32m     34\u001b[0m \u001b[0;32mfrom\u001b[0m \u001b[0mapache_beam\u001b[0m\u001b[0;34m.\u001b[0m\u001b[0mutils\u001b[0m \u001b[0;32mimport\u001b[0m \u001b[0mwindowed_value\u001b[0m\u001b[0;34m\u001b[0m\u001b[0;34m\u001b[0m\u001b[0m\n",
      "\u001b[0;32m~/anaconda3/lib/python3.8/site-packages/apache_beam/dataframe/frames.py\u001b[0m in \u001b[0;36m<module>\u001b[0;34m\u001b[0m\n\u001b[1;32m    128\u001b[0m \u001b[0;34m\u001b[0m\u001b[0m\n\u001b[1;32m    129\u001b[0m \u001b[0;34m\u001b[0m\u001b[0m\n\u001b[0;32m--> 130\u001b[0;31m \u001b[0;32mclass\u001b[0m \u001b[0mDeferredDataFrameOrSeries\u001b[0m\u001b[0;34m(\u001b[0m\u001b[0mframe_base\u001b[0m\u001b[0;34m.\u001b[0m\u001b[0mDeferredFrame\u001b[0m\u001b[0;34m)\u001b[0m\u001b[0;34m:\u001b[0m\u001b[0;34m\u001b[0m\u001b[0;34m\u001b[0m\u001b[0m\n\u001b[0m\u001b[1;32m    131\u001b[0m \u001b[0;34m\u001b[0m\u001b[0m\n\u001b[1;32m    132\u001b[0m   __array__ = frame_base.wont_implement_method(\n",
      "\u001b[0;32m~/anaconda3/lib/python3.8/site-packages/apache_beam/dataframe/frames.py\u001b[0m in \u001b[0;36mDeferredDataFrameOrSeries\u001b[0;34m()\u001b[0m\n\u001b[1;32m    240\u001b[0m   \u001b[0mffill\u001b[0m \u001b[0;34m=\u001b[0m \u001b[0m_fillna_alias\u001b[0m\u001b[0;34m(\u001b[0m\u001b[0;34m'ffill'\u001b[0m\u001b[0;34m)\u001b[0m\u001b[0;34m\u001b[0m\u001b[0;34m\u001b[0m\u001b[0m\n\u001b[1;32m    241\u001b[0m   \u001b[0mbfill\u001b[0m \u001b[0;34m=\u001b[0m \u001b[0m_fillna_alias\u001b[0m\u001b[0;34m(\u001b[0m\u001b[0;34m'bfill'\u001b[0m\u001b[0;34m)\u001b[0m\u001b[0;34m\u001b[0m\u001b[0;34m\u001b[0m\u001b[0m\n\u001b[0;32m--> 242\u001b[0;31m   \u001b[0mbackfill\u001b[0m \u001b[0;34m=\u001b[0m \u001b[0m_fillna_alias\u001b[0m\u001b[0;34m(\u001b[0m\u001b[0;34m'backfill'\u001b[0m\u001b[0;34m)\u001b[0m\u001b[0;34m\u001b[0m\u001b[0;34m\u001b[0m\u001b[0m\n\u001b[0m\u001b[1;32m    243\u001b[0m   \u001b[0mpad\u001b[0m \u001b[0;34m=\u001b[0m \u001b[0m_fillna_alias\u001b[0m\u001b[0;34m(\u001b[0m\u001b[0;34m'pad'\u001b[0m\u001b[0;34m)\u001b[0m\u001b[0;34m\u001b[0m\u001b[0;34m\u001b[0m\u001b[0m\n\u001b[1;32m    244\u001b[0m \u001b[0;34m\u001b[0m\u001b[0m\n",
      "\u001b[0;32m~/anaconda3/lib/python3.8/site-packages/apache_beam/dataframe/frames.py\u001b[0m in \u001b[0;36m_fillna_alias\u001b[0;34m(method)\u001b[0m\n\u001b[1;32m     90\u001b[0m   return frame_base.with_docs_from(pd.DataFrame)(\n\u001b[1;32m     91\u001b[0m       frame_base.args_to_kwargs(pd.DataFrame)(\n\u001b[0;32m---> 92\u001b[0;31m           frame_base.populate_defaults(pd.DataFrame)(wrapper)))\n\u001b[0m\u001b[1;32m     93\u001b[0m \u001b[0;34m\u001b[0m\u001b[0m\n\u001b[1;32m     94\u001b[0m \u001b[0;34m\u001b[0m\u001b[0m\n",
      "\u001b[0;32m~/anaconda3/lib/python3.8/site-packages/apache_beam/dataframe/frame_base.py\u001b[0m in \u001b[0;36mwrap\u001b[0;34m(func)\u001b[0m\n\u001b[1;32m    542\u001b[0m   For internal use only. No backwards compatibility guarantees.\"\"\"\n\u001b[1;32m    543\u001b[0m   \u001b[0;32mdef\u001b[0m \u001b[0mwrap\u001b[0m\u001b[0;34m(\u001b[0m\u001b[0mfunc\u001b[0m\u001b[0;34m)\u001b[0m\u001b[0;34m:\u001b[0m\u001b[0;34m\u001b[0m\u001b[0;34m\u001b[0m\u001b[0m\n\u001b[0;32m--> 544\u001b[0;31m     \u001b[0mbase_argspec\u001b[0m \u001b[0;34m=\u001b[0m \u001b[0mgetfullargspec\u001b[0m\u001b[0;34m(\u001b[0m\u001b[0munwrap\u001b[0m\u001b[0;34m(\u001b[0m\u001b[0mgetattr\u001b[0m\u001b[0;34m(\u001b[0m\u001b[0mbase_type\u001b[0m\u001b[0;34m,\u001b[0m \u001b[0mfunc\u001b[0m\u001b[0;34m.\u001b[0m\u001b[0m__name__\u001b[0m\u001b[0;34m)\u001b[0m\u001b[0;34m)\u001b[0m\u001b[0;34m)\u001b[0m\u001b[0;34m\u001b[0m\u001b[0;34m\u001b[0m\u001b[0m\n\u001b[0m\u001b[1;32m    545\u001b[0m     \u001b[0;32mif\u001b[0m \u001b[0;32mnot\u001b[0m \u001b[0mbase_argspec\u001b[0m\u001b[0;34m.\u001b[0m\u001b[0mdefaults\u001b[0m\u001b[0;34m:\u001b[0m\u001b[0;34m\u001b[0m\u001b[0;34m\u001b[0m\u001b[0m\n\u001b[1;32m    546\u001b[0m       \u001b[0;32mreturn\u001b[0m \u001b[0mfunc\u001b[0m\u001b[0;34m\u001b[0m\u001b[0;34m\u001b[0m\u001b[0m\n",
      "\u001b[0;31mAttributeError\u001b[0m: type object 'DataFrame' has no attribute 'backfill'"
     ]
    }
   ],
   "source": [
    "# Convert dataframe to CSV since `slice_functions` works only with `tfdv.generate_statistics_from_csv`\n",
    "CSV_PATH = 'slice_sample.csv'\n",
    "\n",
    "# Calculate statistics for the sliced dataset\n",
    "\n",
    "sliced_stats = tfdv.generate_statistics_from_csv(CSV_PATH, stats_options=slice_stats_options)\n"
   ]
  },
  {
   "cell_type": "code",
   "execution_count": 235,
   "metadata": {},
   "outputs": [
    {
     "ename": "NameError",
     "evalue": "name 'sliced_stats' is not defined",
     "output_type": "error",
     "traceback": [
      "\u001b[0;31m---------------------------------------------------------------------------\u001b[0m",
      "\u001b[0;31mNameError\u001b[0m                                 Traceback (most recent call last)",
      "\u001b[0;32m<ipython-input-235-d9e2a7898bbb>\u001b[0m in \u001b[0;36m<module>\u001b[0;34m\u001b[0m\n\u001b[0;32m----> 1\u001b[0;31m \u001b[0msliced_stats\u001b[0m\u001b[0;34m\u001b[0m\u001b[0;34m\u001b[0m\u001b[0m\n\u001b[0m",
      "\u001b[0;31mNameError\u001b[0m: name 'sliced_stats' is not defined"
     ]
    }
   ],
   "source": [
    "sliced_stats"
   ]
  },
  {
   "cell_type": "code",
   "execution_count": null,
   "metadata": {},
   "outputs": [],
   "source": [
    "from tensorflow_metadata.proto.v0.statistics_pb2 import DatasetFeatureStatisticsList\n",
    "\n",
    "# Convert `Male` statistics (index=1) to the correct type and get the dataset name\n",
    "male_stats_list = DatasetFeatureStatisticsList()\n",
    "male_stats_list.datasets.extend([sliced_stats.datasets[1]])\n",
    "male_stats_name = sliced_stats.datasets[1].name\n",
    "\n",
    "# Convert `Female` statistics (index=2) to the correct type and get the dataset name\n",
    "female_stats_list = DatasetFeatureStatisticsList()\n",
    "female_stats_list.datasets.extend([sliced_stats.datasets[2]])\n",
    "female_stats_name = sliced_stats.datasets[2].name\n",
    "\n",
    "# Visualize the two slices side by side\n",
    "tfdv.visualize_statistics(\n",
    "    lhs_statistics=male_stats_list,\n",
    "    rhs_statistics=female_stats_list,\n",
    "    lhs_name=male_stats_name,\n",
    "    rhs_name=female_stats_name\n",
    ")"
   ]
  }
 ],
 "metadata": {
  "kernelspec": {
   "display_name": "Python 3",
   "language": "python",
   "name": "python3"
  },
  "language_info": {
   "codemirror_mode": {
    "name": "ipython",
    "version": 3
   },
   "file_extension": ".py",
   "mimetype": "text/x-python",
   "name": "python",
   "nbconvert_exporter": "python",
   "pygments_lexer": "ipython3",
   "version": "3.8.3"
  }
 },
 "nbformat": 4,
 "nbformat_minor": 4
}
